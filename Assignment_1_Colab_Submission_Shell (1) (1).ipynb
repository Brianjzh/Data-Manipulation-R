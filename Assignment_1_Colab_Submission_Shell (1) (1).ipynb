{
  "nbformat": 4,
  "nbformat_minor": 0,
  "metadata": {
    "colab": {
      "provenance": []
    },
    "kernelspec": {
      "name": "ir",
      "display_name": "R"
    },
    "language_info": {
      "name": "R"
    }
  },
  "cells": [
    {
      "cell_type": "markdown",
      "source":
        "######Your name(s):\n",
        "\n",
        "#####The data of over 1000 eBay auctions is provided in the file eBayAcution.csv. Use RStudio to study this marketplace.\n",
        "#####Source: The data is adapted from this book: https://www.dataminingbook.com/book/r-2nd-edition-2023)\n",
        "\n",
        "\n",
        "---\n",
        "\n"
      ],
      "metadata": {
        "id": "jFcox1gP6eXN"
      }
    },
    {
      "cell_type": "markdown",
      "source": [
        "####1) Load the file: \"eBayAcution.csv\" and save it as auctionData.\n"
      ],
      "metadata": {
        "id": "JWn21x6_6u6K"
      }
    },
    {
      "cell_type": "code",
      "source": [
        "auctionData = read.csv(\"eBayAuctions.csv\")"
      ],
      "metadata": {
        "id": "tRykI_sY7U3k"
      },
      "execution_count": 12,
      "outputs": []
    },
    {
      "cell_type": "markdown",
      "source": [
        "\n",
        "\n",
        "---\n",
        "\n",
        "\n",
        "####2) Write a code that checks if the dataset has any missing values, a code that returns the number of auctions (i.e., rows), and one to return the number of variables (i.e., columns)."
      ],
      "metadata": {
        "id": "sGTIUMcD7Nxd"
      }
    },
    {
      "cell_type": "code",
      "source": [
        "anyNA(auctionData)\n",
        "sum(is.na(auctionData))\n",
        "nrow(auctionData)\n",
        "ncol(auctionData)\n"
      ],
      "metadata": {
        "id": "f3hnoFHJ7vb0",
        "colab": {
          "base_uri": "https://localhost:8080/",
          "height": 86
        },
        "outputId": "b346d429-6c8a-44b0-80e1-9d44966fa0a5"
      },
      "execution_count": 26,
      "outputs": [
        {
          "output_type": "display_data",
          "data": {
            "text/html": [
              "FALSE"
            ],
            "text/markdown": "FALSE",
            "text/latex": "FALSE",
            "text/plain": [
              "[1] FALSE"
            ]
          },
          "metadata": {}
        },
        {
          "output_type": "display_data",
          "data": {
            "text/html": [
              "0"
            ],
            "text/markdown": "0",
            "text/latex": "0",
            "text/plain": [
              "[1] 0"
            ]
          },
          "metadata": {}
        },
        {
          "output_type": "display_data",
          "data": {
            "text/html": [
              "1223"
            ],
            "text/markdown": "1223",
            "text/latex": "1223",
            "text/plain": [
              "[1] 1223"
            ]
          },
          "metadata": {}
        },
        {
          "output_type": "display_data",
          "data": {
            "text/html": [
              "8"
            ],
            "text/markdown": "8",
            "text/latex": "8",
            "text/plain": [
              "[1] 8"
            ]
          },
          "metadata": {}
        }
      ]
    },
    {
      "cell_type": "markdown",
      "source": [
        "\n",
        "\n",
        "---\n",
        "\n",
        "\n",
        "####3) What is the maximum auction duration? How many auctions were open for these many days?  What is the average auction duration? What percentage of the auctions have an above average duration?\n"
      ],
      "metadata": {
        "id": "hk6ZEp4E7-yI"
      }
    },
    {
      "cell_type": "code",
      "source": [
        "max_auction_Duration = max(auctionData$Duration)\n",
        "\n",
        "print(max_auction_Duration)\n",
        "sum(auctionData$Duration == 10)\n",
        "\n",
        "avg_auction = mean(auctionData$Duration)\n",
        "print(avg_auction)\n",
        "above_avg_count = sum(auctionData$Duration > avg_auction)\n",
        "total_auctions = length(auctionData$Duration)\n",
        "(above_avg_count / total_auctions) * 100"
      ],
      "metadata": {
        "id": "jzVEb_ci72Rj",
        "colab": {
          "base_uri": "https://localhost:8080/",
          "height": 89
        },
        "outputId": "98c19b09-1d4f-4fce-922f-20e0d9155841"
      },
      "execution_count": 14,
      "outputs": [
        {
          "output_type": "stream",
          "name": "stdout",
          "text": [
            "[1] 10\n"
          ]
        },
        {
          "output_type": "display_data",
          "data": {
            "text/html": [
              "220"
            ],
            "text/markdown": "220",
            "text/latex": "220",
            "text/plain": [
              "[1] 220"
            ]
          },
          "metadata": {}
        },
        {
          "output_type": "stream",
          "name": "stdout",
          "text": [
            "[1] 6.421096\n"
          ]
        },
        {
          "output_type": "display_data",
          "data": {
            "text/html": [
              "59.0351594439902"
            ],
            "text/markdown": "59.0351594439902",
            "text/latex": "59.0351594439902",
            "text/plain": [
              "[1] 59.03516"
            ]
          },
          "metadata": {}
        }
      ]
    },
    {
      "cell_type": "markdown",
      "source": [
        "\n",
        "\n",
        "---\n",
        "\n",
        "\n",
        "####4) Create a new variable called Ratio that calculates the ratio of the closing price over the opening price for each auction and add this variable to the dataset as a new column. What's the average ratio of all auctions? What's the average ratio of 'Computer' auctions?"
      ],
      "metadata": {
        "id": "JjuBgSPO78xZ"
      }
    },
    {
      "cell_type": "code",
      "source": [
        "auctionData$Ratio = auctionData$ClosePrice / auctionData$OpenPrice\n",
        "mean(auctionData$Ratio)\n",
        "mean(auctionData$Ratio[auctionData$Category == \"Computer\"])"
      ],
      "metadata": {
        "id": "G7Yyb1Fy8PXR",
        "colab": {
          "base_uri": "https://localhost:8080/",
          "height": 52
        },
        "outputId": "b686ca8f-0e6b-4a82-f65d-ff13ee5460b1"
      },
      "execution_count": 15,
      "outputs": [
        {
          "output_type": "display_data",
          "data": {
            "text/html": [
              "119.646793184339"
            ],
            "text/markdown": "119.646793184339",
            "text/latex": "119.646793184339",
            "text/plain": [
              "[1] 119.6468"
            ]
          },
          "metadata": {}
        },
        {
          "output_type": "display_data",
          "data": {
            "text/html": [
              "21.8299473834876"
            ],
            "text/markdown": "21.8299473834876",
            "text/latex": "21.8299473834876",
            "text/plain": [
              "[1] 21.82995"
            ]
          },
          "metadata": {}
        }
      ]
    },
    {
      "cell_type": "markdown",
      "source": [
        "\n",
        "\n",
        "---\n",
        "\n",
        "\n",
        "####5) Create an object named \"catNames\" that contains the names of unique auction categories, sorted in alphabetical order. Write a code to return the number of categories stored in this object."
      ],
      "metadata": {
        "id": "7YSkOjtU8N9F"
      }
    },
    {
      "cell_type": "code",
      "source": [
        "catNames = unique(auctionData$Category)\n",
        "sorted_unique = sort(catNames)\n",
        "print(sorted_unique)\n",
        "length(sorted_unique)"
      ],
      "metadata": {
        "id": "WwNN33Gg8dhl",
        "colab": {
          "base_uri": "https://localhost:8080/",
          "height": 108
        },
        "outputId": "506f19c5-afa9-4196-9911-7a87dcbc0750"
      },
      "execution_count": 16,
      "outputs": [
        {
          "output_type": "stream",
          "name": "stdout",
          "text": [
            " [1] \"Automotive\"           \"Books\"                \"Clothing/Accessories\"\n",
            " [4] \"Collectibles\"         \"Computer\"             \"Electronics\"         \n",
            " [7] \"Home/Garden\"          \"Jewelry\"              \"Music/Movie/Game\"    \n",
            "[10] \"Pottery/Glass\"       \n"
          ]
        },
        {
          "output_type": "display_data",
          "data": {
            "text/html": [
              "10"
            ],
            "text/markdown": "10",
            "text/latex": "10",
            "text/plain": [
              "[1] 10"
            ]
          },
          "metadata": {}
        }
      ]
    },
    {
      "cell_type": "markdown",
      "source": [
        "\n",
        "\n",
        "---\n",
        "\n",
        "\n",
        "####6) Write a loop to go through \"catNames\" and calculate the number of auctions in each category. In so doing, save the results in a vector called \"numAuctions\". Write a code to return the values stored in this object.\n"
      ],
      "metadata": {
        "id": "suZA_oOQ8UME"
      }
    },
    {
      "cell_type": "code",
      "source": [
        "numAuctions = c()\n",
        "for (i in 1:length(sorted_unique)){\n",
        "  x <- sorted_unique[i]\n",
        "  numAuctions[i] = sum(auctionData$Category == x)\n",
        "}\n",
        "numAuctions\n"
      ],
      "metadata": {
        "id": "9K3SwlwK8igx",
        "colab": {
          "base_uri": "https://localhost:8080/",
          "height": 34
        },
        "outputId": "68033da9-99b7-4041-e3bc-008b7abcf5f1"
      },
      "execution_count": 17,
      "outputs": [
        {
          "output_type": "display_data",
          "data": {
            "text/html": [
              "<style>\n",
              ".list-inline {list-style: none; margin:0; padding: 0}\n",
              ".list-inline>li {display: inline-block}\n",
              ".list-inline>li:not(:last-child)::after {content: \"\\00b7\"; padding: 0 .5ex}\n",
              "</style>\n",
              "<ol class=list-inline><li>167</li><li>53</li><li>118</li><li>222</li><li>33</li><li>54</li><li>101</li><li>58</li><li>398</li><li>19</li></ol>\n"
            ],
            "text/markdown": "1. 167\n2. 53\n3. 118\n4. 222\n5. 33\n6. 54\n7. 101\n8. 58\n9. 398\n10. 19\n\n\n",
            "text/latex": "\\begin{enumerate*}\n\\item 167\n\\item 53\n\\item 118\n\\item 222\n\\item 33\n\\item 54\n\\item 101\n\\item 58\n\\item 398\n\\item 19\n\\end{enumerate*}\n",
            "text/plain": [
              " [1] 167  53 118 222  33  54 101  58 398  19"
            ]
          },
          "metadata": {}
        }
      ]
    },
    {
      "cell_type": "markdown",
      "source": [
        "\n",
        "\n",
        "---\n",
        "\n",
        "\n",
        "####7) Combine the two objects (catNames and numAuctions) into a new data frame called catInfo. Write two different codes to return the fifth element of the second column in the catInfo dataframe.\n",
        "\n",
        "\n",
        "\n"
      ],
      "metadata": {
        "id": "-AAZuurj8WCO"
      }
    },
    {
      "cell_type": "code",
      "source": [
        "catInfo = data.frame(cbind(sorted_unique, numAuctions))\n",
        "catInfo[5,2]\n",
        "catInfo$Auctions[5]"
      ],
      "metadata": {
        "id": "eUuFR7Fl8nH0",
        "colab": {
          "base_uri": "https://localhost:8080/",
          "height": 52
        },
        "outputId": "7d844080-793c-40a1-f4d6-89700a7607d9"
      },
      "execution_count": 22,
      "outputs": [
        {
          "output_type": "display_data",
          "data": {
            "text/html": [
              "33"
            ],
            "text/markdown": "33",
            "text/latex": "33",
            "text/plain": [
              "[1] 33"
            ]
          },
          "metadata": {}
        },
        {
          "output_type": "display_data",
          "data": {
            "text/html": [
              "33"
            ],
            "text/markdown": "33",
            "text/latex": "33",
            "text/plain": [
              "[1] 33"
            ]
          },
          "metadata": {}
        }
      ]
    },
    {
      "cell_type": "markdown",
      "source": [
        "\n",
        "\n",
        "---\n",
        "\n",
        "\n",
        "####8) Write a piece of code that prints the name of each category and the number of auctions in that category.\n"
      ],
      "metadata": {
        "id": "sHOIxrlv8XpN"
      }
    },
    {
      "cell_type": "code",
      "source": [
        "for (i in 1:nrow(catInfo)) {\n",
        "  cat(\"Category: \", catInfo$Category[i], \"- Number of Auctions: \", catInfo$Auctions[i], \"\\n\")\n",
        "}"
      ],
      "metadata": {
        "id": "X07UJR7c8plN",
        "colab": {
          "base_uri": "https://localhost:8080/"
        },
        "outputId": "156195d2-90cb-4906-e2d0-4d9ed72786b3"
      },
      "execution_count": 25,
      "outputs": [
        {
          "output_type": "stream",
          "name": "stdout",
          "text": [
            "Category:  Automotive - Number of Auctions:  167 \n",
            "Category:  Books - Number of Auctions:  53 \n",
            "Category:  Clothing/Accessories - Number of Auctions:  118 \n",
            "Category:  Collectibles - Number of Auctions:  222 \n",
            "Category:  Computer - Number of Auctions:  33 \n",
            "Category:  Electronics - Number of Auctions:  54 \n",
            "Category:  Home/Garden - Number of Auctions:  101 \n",
            "Category:  Jewelry - Number of Auctions:  58 \n",
            "Category:  Music/Movie/Game - Number of Auctions:  398 \n",
            "Category:  Pottery/Glass - Number of Auctions:  19 \n"
          ]
        }
      ]
    },
    {
      "cell_type": "markdown",
      "source": [
        "\n",
        "\n",
        "---\n",
        "\n",
        "\n",
        "####9) Create a function, called weekendTest, that checks whether a given day is a weekend (endDay of 'Sat' or 'Sun') or not and returns TRUE or FALSE (logical constants in R). Then use this function to create a new variable (called Weekend) that shows if each auction had an endDay of the weekend or not. Add this variable to the dataset as a new column. How many auction ended on weekend? (Write a code that returns this value)"
      ],
      "metadata": {
        "id": "KDY1qy1E8ZN5"
      }
    },
    {
      "cell_type": "code",
      "source": [
        "weekendTest = function(x){\n",
        "  if(x== \"Sat\" | x==\"Sun\"){return(TRUE)}\n",
        "  else {return(FALSE)}\n",
        "}\n",
        "Weekend = sapply(auctionData$endDay, weekendTest)\n",
        "auctionData$Weekend = sapply(auctionData$endDay, weekendTest)\n",
        "sum(auctionData$Weekend)\n"
      ],
      "metadata": {
        "id": "8JrGIbUq8usM",
        "colab": {
          "base_uri": "https://localhost:8080/",
          "height": 34
        },
        "outputId": "0e533b41-80ca-4dd5-e315-9b6c0695d4b7"
      },
      "execution_count": 20,
      "outputs": [
        {
          "output_type": "display_data",
          "data": {
            "text/html": [
              "400"
            ],
            "text/markdown": "400",
            "text/latex": "400",
            "text/plain": [
              "[1] 400"
            ]
          },
          "metadata": {}
        }
      ]
    },
    {
      "cell_type": "markdown",
      "source": [],
      "metadata": {
        "id": "Hq7v8sw15LzT"
      }
    }
  ]
}
